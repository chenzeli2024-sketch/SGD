{
 "cells": [
  {
   "cell_type": "code",
   "execution_count": 2,
   "id": "b05d1b5d",
   "metadata": {},
   "outputs": [],
   "source": [
    "\"\"\"\n",
    "Import the necessary class and package\n",
    "\"\"\"\n",
    "\n",
    "\n",
    "import sys\n",
    "sys.path.append(\"..\")\n",
    "from Volterra import VE                              # import package of numerical method to solve volterra equation\n",
    "import numpy as np\n",
    "import pickle\n",
    "iso=__import__(\"Isotropic features\")\n",
    "isom=iso.isomodel()\n",
    "A,x_0,x_1,beta,r,n,d=isom.generate()                  # generate data for the isotropic model"
   ]
  },
  {
   "cell_type": "markdown",
   "id": "5c850d05",
   "metadata": {},
   "source": [
    "__Solve Volterra equation with numerical method__"
   ]
  },
  {
   "cell_type": "code",
   "execution_count": 4,
   "id": "e4155b37",
   "metadata": {},
   "outputs": [],
   "source": [
    "ss=(2/(r*np.sum(np.diag(np.dot(A.T,A)/n))/d))/2       # set the step size \n",
    "ve=VE.Volterra(A,x_0,x_1,n,r,ss)                      # import the data into the class"
   ]
  },
  {
   "cell_type": "code",
   "execution_count": 5,
   "id": "340c0c50",
   "metadata": {},
   "outputs": [
    {
     "name": "stderr",
     "output_type": "stream",
     "text": [
      "100%|██████████████████████████████████████████████████████████████████████████████| 1002/1002 [02:14<00:00,  7.43it/s]\n"
     ]
    }
   ],
   "source": [
    "MN,inter=ve.matrix()                                  # use the numerical method to solve the volterra equation\n",
    "y1=ve.point(MN,inter)"
   ]
  },
  {
   "cell_type": "code",
   "execution_count": 9,
   "id": "f20a6d59",
   "metadata": {},
   "outputs": [
    {
     "name": "stderr",
     "output_type": "stream",
     "text": [
      "100%|██████████████████████████████████████████████████████████████████████████████| 1002/1002 [02:42<00:00,  6.17it/s]\n",
      "100%|██████████████████████████████████████████████████████████████████████████████████| 40/40 [00:46<00:00,  1.16s/it]\n"
     ]
    }
   ],
   "source": [
    "\"\"\"\n",
    "change the step size and import the data to solve the volterra equation\n",
    "\"\"\"\n",
    "ss=(2/(r*np.sum(np.diag(np.dot(A.T,A)/n))/d))/1.2\n",
    "ve=VE.Volterra(A,x_0,x_1,n,r,ss)\n",
    "MN,inter=ve.matrix()\n",
    "y2=ve.point(MN,inter)"
   ]
  },
  {
   "cell_type": "code",
   "execution_count": 10,
   "id": "77726baf",
   "metadata": {},
   "outputs": [
    {
     "name": "stderr",
     "output_type": "stream",
     "text": [
      "100%|██████████████████████████████████████████████████████████████████████████████| 1002/1002 [01:39<00:00, 10.05it/s]\n",
      "100%|██████████████████████████████████████████████████████████████████████████████████| 40/40 [00:44<00:00,  1.10s/it]\n"
     ]
    }
   ],
   "source": [
    "ss=(2/(r*np.sum(np.diag(np.dot(A.T,A)/n))/d))/4\n",
    "ve=VE.Volterra(A,x_0,x_1,n,r,ss)\n",
    "MN,inter=ve.matrix()\n",
    "y3=ve.point(MN,inter)"
   ]
  },
  {
   "cell_type": "code",
   "execution_count": 11,
   "id": "fb654084",
   "metadata": {},
   "outputs": [
    {
     "name": "stderr",
     "output_type": "stream",
     "text": [
      "100%|██████████████████████████████████████████████████████████████████████████████| 1002/1002 [01:07<00:00, 14.84it/s]\n",
      "100%|██████████████████████████████████████████████████████████████████████████████████| 40/40 [00:44<00:00,  1.10s/it]\n"
     ]
    }
   ],
   "source": [
    "ss=(2/(r*np.sum(np.diag(np.dot(A.T,A)/n))/d))/8\n",
    "ve=VE.Volterra(A,x_0,x_1,n,r,ss)\n",
    "MN,inter=ve.matrix()\n",
    "y4=ve.point(MN,inter)"
   ]
  },
  {
   "cell_type": "code",
   "execution_count": 12,
   "id": "afa7f01d",
   "metadata": {},
   "outputs": [],
   "source": [
    "\"\"\"\n",
    "Save the results\n",
    "\"\"\"\n",
    "\n",
    "file1=open(\"data\\\\Volterra\\\\2.pickle\",\"wb\")\n",
    "file2=open(\"data\\\\Volterra\\\\1p2.pickle\",\"wb\")\n",
    "file3=open(\"data\\\\Volterra\\\\4.pickle\",\"wb\")\n",
    "file4=open(\"data\\\\Volterra\\\\8.pickle\",\"wb\")\n",
    "\n",
    "pickle.dump(y1,file1)\n",
    "pickle.dump(y2,file2)\n",
    "pickle.dump(y3,file3)\n",
    "pickle.dump(y4,file4)\n",
    "\n",
    "file1.close()\n",
    "file2.close()\n",
    "file3.close()\n",
    "file4.close()"
   ]
  },
  {
   "cell_type": "markdown",
   "id": "6add0ec4",
   "metadata": {},
   "source": [
    "__Solve Volterra equation with analytic method__"
   ]
  },
  {
   "cell_type": "code",
   "execution_count": 4,
   "id": "8a73df92",
   "metadata": {},
   "outputs": [],
   "source": [
    "from Volterra import AVE                                    # import tha package of analytic method to solve volterra equation"
   ]
  },
  {
   "cell_type": "code",
   "execution_count": 5,
   "id": "20089c44",
   "metadata": {},
   "outputs": [],
   "source": [
    "ave=AVE.Analytic(A,x_1,n,r,ss,x_0)                          # the process of solving the equation\n",
    "y_1=ave.iterate()"
   ]
  },
  {
   "cell_type": "code",
   "execution_count": 6,
   "id": "be547e35",
   "metadata": {},
   "outputs": [],
   "source": [
    "ss=(2/(r*np.sum(np.diag(np.dot(A.T,A)/n))/d))/1.2           # change step size                                                             \n",
    "ave=AVE.Analytic(A,x_1,n,r,ss,x_0)                          # solve the eqaution with the same method\n",
    "y_2=ave.iterate()"
   ]
  },
  {
   "cell_type": "code",
   "execution_count": 7,
   "id": "3adf95b5",
   "metadata": {},
   "outputs": [],
   "source": [
    "ss=(2/(r*np.sum(np.diag(np.dot(A.T,A)/n))/d))/4\n",
    "ave=AVE.Analytic(A,x_1,n,r,ss,x_0)\n",
    "y_3=ave.iterate()"
   ]
  },
  {
   "cell_type": "code",
   "execution_count": 8,
   "id": "8e21059e",
   "metadata": {},
   "outputs": [],
   "source": [
    "ss=(2/(r*np.sum(np.diag(np.dot(A.T,A)/n))/d))/8\n",
    "ave=AVE.Analytic(A,x_1,n,r,ss,x_0)\n",
    "y_4=ave.iterate()"
   ]
  },
  {
   "cell_type": "code",
   "execution_count": 9,
   "id": "76f102b7",
   "metadata": {},
   "outputs": [],
   "source": [
    "file1=open(\"data\\\\analytic\\\\2.pickle\",\"wb\")                 # save the data with pickle\n",
    "file2=open(\"data\\\\analytic\\\\1p2.pickle\",\"wb\")\n",
    "file3=open(\"data\\\\analytic\\\\4.pickle\",\"wb\")\n",
    "file4=open(\"data\\\\analytic\\\\8.pickle\",\"wb\")\n",
    "\n",
    "pickle.dump(y_1,file1)\n",
    "pickle.dump(y_2,file2)\n",
    "pickle.dump(y_3,file3)\n",
    "pickle.dump(y_4,file4)\n",
    "\n",
    "file1.close()\n",
    "file2.close()\n",
    "file3.close()\n",
    "file4.close()"
   ]
  }
 ],
 "metadata": {
  "kernelspec": {
   "display_name": "Python 3",
   "language": "python",
   "name": "python3"
  },
  "language_info": {
   "codemirror_mode": {
    "name": "ipython",
    "version": 3
   },
   "file_extension": ".py",
   "mimetype": "text/x-python",
   "name": "python",
   "nbconvert_exporter": "python",
   "pygments_lexer": "ipython3",
   "version": "3.8.8"
  }
 },
 "nbformat": 4,
 "nbformat_minor": 5
}
