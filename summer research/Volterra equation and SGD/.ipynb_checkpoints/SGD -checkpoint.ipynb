{
 "cells": [
  {
   "cell_type": "markdown",
   "id": "5516f8bd",
   "metadata": {},
   "source": [
    "__SGD__"
   ]
  },
  {
   "cell_type": "code",
   "execution_count": 3,
   "id": "ab239734",
   "metadata": {},
   "outputs": [],
   "source": [
    "import sys\n",
    "sys.path.append(\"..\")\n",
    "from SGD import SGD                         # import package of SGD model\n",
    "import numpy as np\n",
    "import pickle\n",
    "iso=__import__(\"Isotropic features\")        # import data for isotropic model\n",
    "isom=iso.isomodel()\n",
    "A,x_0,x_1,beta,r,n,d=isom.generate()"
   ]
  },
  {
   "cell_type": "code",
   "execution_count": 4,
   "id": "e0addcab",
   "metadata": {},
   "outputs": [],
   "source": [
    "\n",
    "ss=(2/(r*np.sum(np.diag(np.dot(A.T,A)/n))/d))/2     # set step size for SGD model\n",
    "sgd=SGD.SGDgenerate(A,n,r,x_0,x_1,ss,beta)          # import the data into sgd class\n",
    "err1=sgd.iterate()                                  # iterate conducts"
   ]
  },
  {
   "cell_type": "code",
   "execution_count": 5,
   "id": "5b7f16e6",
   "metadata": {},
   "outputs": [
    {
     "name": "stderr",
     "output_type": "stream",
     "text": [
      "100%|██████████████████████████████████████████████████████████████████████████████████| 40/40 [06:41<00:00, 10.03s/it]\n"
     ]
    }
   ],
   "source": [
    "ss=(2/(r*np.sum(np.diag(np.dot(A.T,A)/n))/d))/1.2\n",
    "sgd=SGD.SGDgenerate(A,n,r,x_0,x_1,ss,beta)\n",
    "err2=sgd.iterate()"
   ]
  },
  {
   "cell_type": "code",
   "execution_count": 6,
   "id": "8b9651a7",
   "metadata": {},
   "outputs": [
    {
     "name": "stderr",
     "output_type": "stream",
     "text": [
      "100%|██████████████████████████████████████████████████████████████████████████████████| 40/40 [05:31<00:00,  8.29s/it]\n"
     ]
    }
   ],
   "source": [
    "ss=(2/(r*np.sum(np.diag(np.dot(A.T,A)/n))/d))/4\n",
    "sgd=SGD.SGDgenerate(A,n,r,x_0,x_1,ss,beta)\n",
    "err3=sgd.iterate()"
   ]
  },
  {
   "cell_type": "code",
   "execution_count": 7,
   "id": "27dd1f3d",
   "metadata": {},
   "outputs": [
    {
     "name": "stderr",
     "output_type": "stream",
     "text": [
      "100%|██████████████████████████████████████████████████████████████████████████████████| 40/40 [05:28<00:00,  8.22s/it]\n"
     ]
    }
   ],
   "source": [
    "ss=(2/(r*np.sum(np.diag(np.dot(A.T,A)/n))/d))/8\n",
    "sgd=SGD.SGDgenerate(A,n,r,x_0,x_1,ss,beta)\n",
    "err4=sgd.iterate()"
   ]
  },
  {
   "cell_type": "code",
   "execution_count": 8,
   "id": "daf75c1b",
   "metadata": {},
   "outputs": [],
   "source": [
    "\"\"\"\n",
    "Save the results for different step sizes with pickle\n",
    "\"\"\"\n",
    "\n",
    "file1=open(\"data\\\\SGD\\\\sgd-2.pickle\",\"wb\")           \n",
    "file2=open(\"data\\\\SGD\\\\sgd-1p2.pickle\",\"wb\")\n",
    "file3=open(\"data\\\\SGD\\\\sgd-4.pickle\",\"wb\")\n",
    "file4=open(\"data\\\\SGD\\\\sgd-8.pickle\",\"wb\")\n",
    "\n",
    "pickle.dump(err1,file1)\n",
    "pickle.dump(err2,file2)\n",
    "pickle.dump(err3,file3)\n",
    "pickle.dump(err4,file4)\n",
    "\n",
    "file1.close()\n",
    "file2.close()\n",
    "file3.close()\n",
    "file4.close()"
   ]
  }
 ],
 "metadata": {
  "kernelspec": {
   "display_name": "Python 3",
   "language": "python",
   "name": "python3"
  },
  "language_info": {
   "codemirror_mode": {
    "name": "ipython",
    "version": 3
   },
   "file_extension": ".py",
   "mimetype": "text/x-python",
   "name": "python",
   "nbconvert_exporter": "python",
   "pygments_lexer": "ipython3",
   "version": "3.8.8"
  }
 },
 "nbformat": 4,
 "nbformat_minor": 5
}
